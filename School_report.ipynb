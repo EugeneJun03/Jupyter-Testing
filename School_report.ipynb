{
 "cells": [
  {
   "attachments": {},
   "cell_type": "markdown",
   "metadata": {},
   "source": [
    "### Drawing Integers\n",
    "\n",
    "1. drawing_integers(lb, ub, trials)\n",
    "\n",
    "▪ Goal: Make a list of random integers\n",
    "\n",
    "▪ Parameters\n",
    "\n",
    "▪ Range of the integers: lb <= the integers <= ub\n",
    "\n",
    "▪ Length of the integers: trials\n",
    "\n",
    "▪ Return: an integers list.\n",
    "\n",
    "  Ex) [1, 4, 3, 5, 2]\n",
    "\n",
    "▪ Hint: Use randint function in the random module\n",
    "\n",
    "\n",
    "2. average_integers(num_list)\n",
    "\n",
    "▪ Goal: Compute the average of the integer sequence in the list\n",
    "\n",
    "▪ Parameter: a list which is returned from drawing_integers\n",
    "\n",
    "▪ Return: average value of the list\n",
    "\n",
    "\n",
    "3. count_integers(num_list)\n",
    "\n",
    "▪ Goal: Count the frequency of the integers in the list\n",
    "\n",
    "▪ Parameter: a list which is returned from drawing_integers\n",
    "\n",
    "▪ Return: A list of tuples that are the integer and its frequency\n",
    "\n",
    "  Ex) [(1, 2), (2, 3), (3, 0), (4, 2)] for [4,1,2,2,4,2,1]"
   ]
  },
  {
   "cell_type": "code",
   "execution_count": 2,
   "metadata": {},
   "outputs": [],
   "source": [
    "from math import *\n",
    "from random import *"
   ]
  },
  {
   "cell_type": "code",
   "execution_count": 3,
   "metadata": {},
   "outputs": [],
   "source": [
    "def drawing_integers(lb, ub, trials):\n",
    "    list_int = []\n",
    "    for i in range(trials):\n",
    "        list_int.append(randint(lb, ub))\n",
    "    return list_int"
   ]
  },
  {
   "cell_type": "code",
   "execution_count": 4,
   "metadata": {},
   "outputs": [],
   "source": [
    "def average_integers(num_list):\n",
    "    sum = 0\n",
    "    for i in range(len(num_list)):\n",
    "        sum += num_list[i]\n",
    "    return sum/len(num_list)\n",
    "\n"
   ]
  },
  {
   "cell_type": "code",
   "execution_count": 19,
   "metadata": {},
   "outputs": [],
   "source": [
    "# Standard_Library.py line87~121\n",
    "from collections import Counter\n",
    "\n",
    "def count_list(num_list):\n",
    "    num_list_counter = Counter(num_list)\n",
    "    return num_list_counter.most_common()"
   ]
  },
  {
   "cell_type": "code",
   "execution_count": 10,
   "metadata": {},
   "outputs": [
    {
     "name": "stdout",
     "output_type": "stream",
     "text": [
      "[3, 4, 4, 4, 5]\n"
     ]
    }
   ],
   "source": [
    "list1 = drawing_integers(1,6,5)\n",
    "print(list1)"
   ]
  },
  {
   "cell_type": "code",
   "execution_count": 11,
   "metadata": {},
   "outputs": [
    {
     "data": {
      "text/plain": [
       "4.0"
      ]
     },
     "execution_count": 11,
     "metadata": {},
     "output_type": "execute_result"
    }
   ],
   "source": [
    "average_integers(list1)"
   ]
  },
  {
   "cell_type": "code",
   "execution_count": 20,
   "metadata": {},
   "outputs": [
    {
     "data": {
      "text/plain": [
       "[(4, 3), (3, 1), (5, 1)]"
      ]
     },
     "execution_count": 20,
     "metadata": {},
     "output_type": "execute_result"
    }
   ],
   "source": [
    "count_list(list1)"
   ]
  }
 ],
 "metadata": {
  "kernelspec": {
   "display_name": "Python 3",
   "language": "python",
   "name": "python3"
  },
  "language_info": {
   "codemirror_mode": {
    "name": "ipython",
    "version": 3
   },
   "file_extension": ".py",
   "mimetype": "text/x-python",
   "name": "python",
   "nbconvert_exporter": "python",
   "pygments_lexer": "ipython3",
   "version": "3.11.0"
  },
  "orig_nbformat": 4
 },
 "nbformat": 4,
 "nbformat_minor": 2
}
