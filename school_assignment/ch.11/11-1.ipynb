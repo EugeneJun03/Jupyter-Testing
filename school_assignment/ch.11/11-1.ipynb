{
 "cells": [
  {
   "attachments": {},
   "cell_type": "markdown",
   "metadata": {},
   "source": [
    "# 11-1\n",
    "- 소수를 매우 좋아하는 수학자가 있다. 이 수학자는 매번 전화번호를 받을 때 마다, 그 전화번호가 소수인지 아닌지를 검사한다. \n",
    "\n",
    "- 수학자는 자신의 모든 친구의 전화번호가 소수인지 아닌지를 기억하고 있다.\n",
    "\n",
    "- 계속해서 늘어나는 휴대전화 인구의 급증에 따라 정부는 한 자리를 기존 번호 앞에 붙이는 정책을 시행하기로 했다.\n",
    "\n",
    "- 수학자는 큰 고민에 빠졌다. 소수 전화번호를 가지고 있는 친구의 전화번호가 이제 평범한 숫자가 될 수도 있기 때문이다.\n",
    "\n",
    "- 수학자의 친구 중 한 사람의 원래 전화번호와 새로이 앞에 붙는 번호 한 자리가 주어졌을 때, 원래 전화번호와 새로운 전화번호가 모두 소수인지 아닌지를 구하는 프로그램을 작성하시오."
   ]
  },
  {
   "cell_type": "code",
   "execution_count": 9,
   "metadata": {},
   "outputs": [
    {
     "name": "stdout",
     "output_type": "stream",
     "text": [
      "Yes\n"
     ]
    }
   ],
   "source": [
    "a, b = map(str, input().split())\n",
    "re = b+a\n",
    "num = int(re)\n",
    "flag1 = 0\n",
    "for i in range(2,int(a)):\n",
    "    if int(a)%i == 0:\n",
    "        flag1 = 1\n",
    "        break\n",
    "flag2 = 0\n",
    "for i in range(2,int(num)):\n",
    "    if num%i == 0:\n",
    "        flag2 = 1\n",
    "        break\n",
    "if flag1 == 0 and flag2 ==0:\n",
    "    print(\"Yes\")\n",
    "else:\n",
    "    print(\"No\")"
   ]
  }
 ],
 "metadata": {
  "kernelspec": {
   "display_name": "Python 3",
   "language": "python",
   "name": "python3"
  },
  "language_info": {
   "codemirror_mode": {
    "name": "ipython",
    "version": 3
   },
   "file_extension": ".py",
   "mimetype": "text/x-python",
   "name": "python",
   "nbconvert_exporter": "python",
   "pygments_lexer": "ipython3",
   "version": "3.11.0"
  },
  "orig_nbformat": 4
 },
 "nbformat": 4,
 "nbformat_minor": 2
}
