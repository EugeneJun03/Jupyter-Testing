{
 "cells": [
  {
   "attachments": {},
   "cell_type": "markdown",
   "metadata": {},
   "source": [
    "# 11-2\n",
    "\n",
    "- 아무래도 우리 팀 다리우스가 고수인 것 같다. \n",
    "\n",
    "- K+A < D이거나, D = 0이면 그는 「가짜」이고, 그렇지 않으면 「진짜」이다. \n",
    "\n",
    "- 그의 K/D/A를 보고 그가 「진짜」인지 판별하는 프로그램을 작성하시오."
   ]
  },
  {
   "cell_type": "code",
   "execution_count": null,
   "metadata": {},
   "outputs": [],
   "source": [
    "K, D, A = map(int, input().split(\"/\"))\n",
    "if K+A < D or D==0:\n",
    "    print(\"hasu\")\n",
    "else:\n",
    "    print(\"gosu\")"
   ]
  }
 ],
 "metadata": {
  "language_info": {
   "name": "python"
  },
  "orig_nbformat": 4
 },
 "nbformat": 4,
 "nbformat_minor": 2
}
