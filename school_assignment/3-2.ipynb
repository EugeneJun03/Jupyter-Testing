{
 "cells": [
  {
   "attachments": {},
   "cell_type": "markdown",
   "metadata": {},
   "source": [
    "### 원의 넓이와 둘레 구하기\n"
   ]
  },
  {
   "cell_type": "code",
   "execution_count": 18,
   "metadata": {},
   "outputs": [],
   "source": [
    "import math as m"
   ]
  },
  {
   "cell_type": "code",
   "execution_count": 28,
   "metadata": {},
   "outputs": [],
   "source": [
    "def circle():\n",
    "  r = float(input(\"원의 반지름을 입력하세요:\"))\n",
    "  L = 2 * m.pi * r\n",
    "  V = m.pi * (r**2)\n",
    "  print('반지름이 {}cm인 원의 둘레는 %{:.2f}cm이고 넓이는 {:.2f}cm^2 이다.'.format(r, L, V))"
   ]
  },
  {
   "cell_type": "code",
   "execution_count": 29,
   "metadata": {},
   "outputs": [
    {
     "name": "stdout",
     "output_type": "stream",
     "text": [
      "반지름이 4.0cm인 원의 둘레는 %25.13cm이고 넓이는 50.27cm^2 이다.\n"
     ]
    }
   ],
   "source": [
    "circle()"
   ]
  }
 ],
 "metadata": {
  "kernelspec": {
   "display_name": "Python 3",
   "language": "python",
   "name": "python3"
  },
  "language_info": {
   "codemirror_mode": {
    "name": "ipython",
    "version": 3
   },
   "file_extension": ".py",
   "mimetype": "text/x-python",
   "name": "python",
   "nbconvert_exporter": "python",
   "pygments_lexer": "ipython3",
   "version": "3.11.0"
  },
  "orig_nbformat": 4
 },
 "nbformat": 4,
 "nbformat_minor": 2
}
