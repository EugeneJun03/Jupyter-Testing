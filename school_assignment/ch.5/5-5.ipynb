{
 "cells": [
  {
   "attachments": {},
   "cell_type": "markdown",
   "metadata": {},
   "source": [
    "### 문제해결\n",
    "수업시간에 배웠던 식별연산자 is와 비교연산자 ==를 복습하기 위해 아래와 같이 입력해 보았더니, 수업시간에 배웠던 것과는 다르게 print(x is y)의 결과가 False가 아닌 True가 나왔다. 그 이유를 설명하시오."
   ]
  },
  {
   "cell_type": "code",
   "execution_count": 2,
   "metadata": {},
   "outputs": [
    {
     "name": "stdout",
     "output_type": "stream",
     "text": [
      "True\n",
      "True\n",
      "True\n",
      "123\n"
     ]
    }
   ],
   "source": [
    "x = 123\n",
    "y = 123\n",
    "z = x\n",
    "\n",
    "print(x is z)\n",
    "print(x is y)\n",
    "print(x == y)\n",
    "\n",
    "x += 1\n",
    "print(y)"
   ]
  },
  {
   "attachments": {},
   "cell_type": "markdown",
   "metadata": {},
   "source": [
    "- 여기서 우리가 배운 대로 라면 print(x is z)는 z = x에 의해서 True가 나오고\n",
    "print(x is y)는 서로 저장된 위치가 다르므로 다른 객체이다. 그러므로 False가 나와야한다. 그리고 print(x == y)는 int값이 같으므로 True가 나온다.\n",
    "\n",
    "- 여기서 문제는 두번째에서 True가 나왔다는 것이다. x값을 바꾸었을 때 y값이 바뀌지 않는 것을 보면 다른 위치에서 x와 y가 저장되었다는 것은 명백한데 어째서 x is y가 \n",
    "True인 것 일까?"
   ]
  },
  {
   "attachments": {},
   "cell_type": "markdown",
   "metadata": {},
   "source": [
    "- 사실 python은 1~256까지의 숫자를 할당할때는 매로리를 새로 할당하는 것이 아니라 기존에 있던 위치를 할당하게 된다.\n",
    "- 그 이유는 동일한 값을 매번 할당함으로써 발생할 수 있는 메모리 낭비를 줄이기 위해서 이다."
   ]
  },
  {
   "cell_type": "code",
   "execution_count": 3,
   "metadata": {},
   "outputs": [
    {
     "name": "stdout",
     "output_type": "stream",
     "text": [
      "True\n",
      "False\n"
     ]
    }
   ],
   "source": [
    "a = 256\n",
    "b = 256\n",
    "print(a is b)\n",
    "\n",
    "a = 257\n",
    "b = 257\n",
    "print(a is b)"
   ]
  }
 ],
 "metadata": {
  "kernelspec": {
   "display_name": "Python 3",
   "language": "python",
   "name": "python3"
  },
  "language_info": {
   "codemirror_mode": {
    "name": "ipython",
    "version": 3
   },
   "file_extension": ".py",
   "mimetype": "text/x-python",
   "name": "python",
   "nbconvert_exporter": "python",
   "pygments_lexer": "ipython3",
   "version": "3.11.0"
  },
  "orig_nbformat": 4,
  "vscode": {
   "interpreter": {
    "hash": "1bfd3aac423cefc22ab2290c2dbf0f348cb746202f975429435086e43653d52a"
   }
  }
 },
 "nbformat": 4,
 "nbformat_minor": 2
}
