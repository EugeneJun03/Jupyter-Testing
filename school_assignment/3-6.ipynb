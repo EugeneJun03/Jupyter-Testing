{
 "cells": [
  {
   "attachments": {},
   "cell_type": "markdown",
   "metadata": {},
   "source": [
    "### 2 부터 100개의 소수를 출력하기"
   ]
  },
  {
   "cell_type": "code",
   "execution_count": 30,
   "metadata": {},
   "outputs": [],
   "source": [
    "import pprint\n",
    "def prime_number():\n",
    "  list_prime = [2]\n",
    "  n = 3\n",
    "  while len(list_prime) < 100:\n",
    "    flag = 1\n",
    "    for t in range(2,n):\n",
    "      if n%t == 0:\n",
    "        flag = 0\n",
    "        break\n",
    "    if flag == 1:\n",
    "      list_prime.append(n)\n",
    "      n += 1\n",
    "      continue \n",
    "    else:\n",
    "      n += 1\n",
    "      continue \n",
    "  pp = pprint.PrettyPrinter(width=63, compact=True)\n",
    "  pp.pprint(list_prime)"
   ]
  },
  {
   "cell_type": "code",
   "execution_count": 31,
   "metadata": {},
   "outputs": [
    {
     "name": "stdout",
     "output_type": "stream",
     "text": [
      "[2, 3, 5, 7, 11, 13, 17, 19, 23, 29, 31, 37, 41, 43, 47, 53,\n",
      " 59, 61, 67, 71, 73, 79, 83, 89, 97, 101, 103, 107, 109, 113,\n",
      " 127, 131, 137, 139, 149, 151, 157, 163, 167, 173, 179, 181,\n",
      " 191, 193, 197, 199, 211, 223, 227, 229, 233, 239, 241, 251,\n",
      " 257, 263, 269, 271, 277, 281, 283, 293, 307, 311, 313, 317,\n",
      " 331, 337, 347, 349, 353, 359, 367, 373, 379, 383, 389, 397,\n",
      " 401, 409, 419, 421, 431, 433, 439, 443, 449, 457, 461, 463,\n",
      " 467, 479, 487, 491, 499, 503, 509, 521, 523, 541]\n"
     ]
    }
   ],
   "source": [
    "prime_number()"
   ]
  }
 ],
 "metadata": {
  "kernelspec": {
   "display_name": "Python 3",
   "language": "python",
   "name": "python3"
  },
  "language_info": {
   "codemirror_mode": {
    "name": "ipython",
    "version": 3
   },
   "file_extension": ".py",
   "mimetype": "text/x-python",
   "name": "python",
   "nbconvert_exporter": "python",
   "pygments_lexer": "ipython3",
   "version": "3.11.0"
  },
  "orig_nbformat": 4
 },
 "nbformat": 4,
 "nbformat_minor": 2
}
