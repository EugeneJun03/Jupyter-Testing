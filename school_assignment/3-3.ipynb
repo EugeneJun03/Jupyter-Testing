{
 "cells": [
  {
   "attachments": {},
   "cell_type": "markdown",
   "metadata": {},
   "source": [
    "### 정수 3개를 입력받아 합과 평균을 출력하라\n",
    "\n",
    "- 단, 입력받는 정수값의 범위는 -2147483648에서 2147483648 사이이다."
   ]
  },
  {
   "cell_type": "code",
   "execution_count": 2,
   "metadata": {},
   "outputs": [],
   "source": [
    "def add_and_averige():\n",
    "   a, b, c = input(\"한칸씩 띄우고 숫자 3개를 입력해주세요\").split()\n",
    "   A = int(a)\n",
    "   B = int(b)\n",
    "   C = int(c)\n",
    "   if -2147483648 <= A <= 2147483648 and -2147483648 <= B <= 2147483648 and -2147483648 <= C <= 2147483648:\n",
    "     sum = A + B + C\n",
    "     ave = sum/3\n",
    "     print(\"입력하신 세 수의 합은\", sum, \"이고 평균은\", \"%0.3f이다.\" %ave)\n",
    "   else:\n",
    "     print(\" -2147483648에서 2147483648 사이의 숫자를 입력해 주십시오!\")"
   ]
  },
  {
   "cell_type": "code",
   "execution_count": 2,
   "metadata": {},
   "outputs": [
    {
     "name": "stdout",
     "output_type": "stream",
     "text": [
      " -2147483648에서 2147483648 사이의 숫자를 입력해 주십시오!\n"
     ]
    }
   ],
   "source": [
    "add_and_averige()"
   ]
  },
  {
   "cell_type": "code",
   "execution_count": 4,
   "metadata": {},
   "outputs": [
    {
     "name": "stdout",
     "output_type": "stream",
     "text": [
      "입력하신 세 수의 합은 369 이고 평균은 123.000이다.\n"
     ]
    }
   ],
   "source": [
    "add_and_averige()"
   ]
  }
 ],
 "metadata": {
  "kernelspec": {
   "display_name": "Python 3",
   "language": "python",
   "name": "python3"
  },
  "language_info": {
   "codemirror_mode": {
    "name": "ipython",
    "version": 3
   },
   "file_extension": ".py",
   "mimetype": "text/x-python",
   "name": "python",
   "nbconvert_exporter": "python",
   "pygments_lexer": "ipython3",
   "version": "3.11.0"
  },
  "orig_nbformat": 4
 },
 "nbformat": 4,
 "nbformat_minor": 2
}
