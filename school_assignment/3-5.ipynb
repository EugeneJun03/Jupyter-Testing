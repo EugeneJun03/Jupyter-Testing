{
 "cells": [
  {
   "attachments": {},
   "cell_type": "markdown",
   "metadata": {},
   "source": [
    "### 리히터 규모에 따른 피해정도 출력하기"
   ]
  },
  {
   "cell_type": "code",
   "execution_count": 1,
   "metadata": {},
   "outputs": [],
   "source": [
    "def earthquakes(n):\n",
    "  if n >= 8.0:\n",
    "    print(\"거대한 지진으로 모든 마을이 파괴된다.\")\n",
    "  elif 7.0 <= n < 8.0:\n",
    "    print(\"큰 피해를 야기한다.(가옥 전파, 교량 파괴, 산사태, 지각 균열)\")\n",
    "  elif 6.1 <= n < 7.0:\n",
    "    print(\"사람이 사는 곳이 파괴될 수 있다.(가옥 30% 파괴)\")\n",
    "  elif 5.5 <= n < 6.1:\n",
    "    print(\"건물에 약간의 손상이 온다.(벽균열, 서있기 곤란)\")\n",
    "  elif 3.5 <= n < 5.5:\n",
    "    print(\"가끔 느껴지고 미약한 피해가 발생한다.(창문 흔들리고 물건 떨어짐)\")\n",
    "  else:\n",
    "    print(\"사람이 거의 느끼지 못한다.\")"
   ]
  },
  {
   "cell_type": "code",
   "execution_count": 2,
   "metadata": {},
   "outputs": [
    {
     "name": "stdout",
     "output_type": "stream",
     "text": [
      "큰 피해를 야기한다.(가옥 전파, 교량 파괴, 산사태, 지각 균열)\n"
     ]
    }
   ],
   "source": [
    "earthquakes(7)"
   ]
  },
  {
   "cell_type": "code",
   "execution_count": 3,
   "metadata": {},
   "outputs": [
    {
     "name": "stdout",
     "output_type": "stream",
     "text": [
      "거대한 지진으로 모든 마을이 파괴된다.\n"
     ]
    }
   ],
   "source": [
    "earthquakes(9)"
   ]
  }
 ],
 "metadata": {
  "kernelspec": {
   "display_name": "Python 3",
   "language": "python",
   "name": "python3"
  },
  "language_info": {
   "codemirror_mode": {
    "name": "ipython",
    "version": 3
   },
   "file_extension": ".py",
   "mimetype": "text/x-python",
   "name": "python",
   "nbconvert_exporter": "python",
   "pygments_lexer": "ipython3",
   "version": "3.11.0"
  },
  "orig_nbformat": 4
 },
 "nbformat": 4,
 "nbformat_minor": 2
}
