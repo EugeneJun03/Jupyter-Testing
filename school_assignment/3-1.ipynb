{
 "cells": [
  {
   "attachments": {},
   "cell_type": "markdown",
   "metadata": {},
   "source": [
    "### 섭씨 기온을 화씨 기온으로 변환하기"
   ]
  },
  {
   "cell_type": "code",
   "execution_count": 8,
   "metadata": {},
   "outputs": [],
   "source": [
    "def change_C_to_F():\n",
    "  C = float(input(\"화씨로 바꿀 섭씨온도를 입력하시오:\"))\n",
    "  F = (C *9/5) + 32\n",
    "  print(\"섭씨\", C,\"도는 화씨\", F,\"도이다.\")"
   ]
  },
  {
   "cell_type": "code",
   "execution_count": 9,
   "metadata": {},
   "outputs": [
    {
     "name": "stdout",
     "output_type": "stream",
     "text": [
      "섭씨 100.0 도는 화씨 212.0 도이다.\n"
     ]
    }
   ],
   "source": [
    "change_C_to_F()"
   ]
  }
 ],
 "metadata": {
  "kernelspec": {
   "display_name": "Python 3",
   "language": "python",
   "name": "python3"
  },
  "language_info": {
   "codemirror_mode": {
    "name": "ipython",
    "version": 3
   },
   "file_extension": ".py",
   "mimetype": "text/x-python",
   "name": "python",
   "nbconvert_exporter": "python",
   "pygments_lexer": "ipython3",
   "version": "3.11.0"
  },
  "orig_nbformat": 4
 },
 "nbformat": 4,
 "nbformat_minor": 2
}
