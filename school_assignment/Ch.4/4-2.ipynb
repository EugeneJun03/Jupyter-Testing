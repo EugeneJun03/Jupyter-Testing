{
 "cells": [
  {
   "attachments": {},
   "cell_type": "markdown",
   "metadata": {},
   "source": [
    "### 피타고라스 수 구하기\n",
    "\n",
    "- 피타고라스 수(Pythagoras 數, pythagorean triple)는 피타고라스의 정리 a2 + b2 = c2을 만족하는 세 자연수 쌍 (a, b, c)를 말한다."
   ]
  },
  {
   "cell_type": "code",
   "execution_count": 8,
   "metadata": {},
   "outputs": [
    {
     "data": {
      "text/plain": [
       "[[3, 4, 5],\n",
       " [5, 12, 13],\n",
       " [6, 8, 10],\n",
       " [7, 24, 25],\n",
       " [8, 15, 17],\n",
       " [9, 12, 15],\n",
       " [10, 24, 26],\n",
       " [12, 16, 20],\n",
       " [15, 20, 25],\n",
       " [18, 24, 30],\n",
       " [20, 21, 29]]"
      ]
     },
     "execution_count": 8,
     "metadata": {},
     "output_type": "execute_result"
    }
   ],
   "source": [
    "def Pythagoras():\n",
    "    py_list = []\n",
    "    for i in range(1,31):\n",
    "        for j in range(i,31):\n",
    "            for k in range(j,31):\n",
    "                if i**2 + j**2 == k**2:\n",
    "                    py_list.append([i, j, k])\n",
    "    return py_list\n",
    "Pythagoras()\n"
   ]
  }
 ],
 "metadata": {
  "kernelspec": {
   "display_name": "Python 3",
   "language": "python",
   "name": "python3"
  },
  "language_info": {
   "codemirror_mode": {
    "name": "ipython",
    "version": 3
   },
   "file_extension": ".py",
   "mimetype": "text/x-python",
   "name": "python",
   "nbconvert_exporter": "python",
   "pygments_lexer": "ipython3",
   "version": "3.11.0"
  },
  "orig_nbformat": 4
 },
 "nbformat": 4,
 "nbformat_minor": 2
}
