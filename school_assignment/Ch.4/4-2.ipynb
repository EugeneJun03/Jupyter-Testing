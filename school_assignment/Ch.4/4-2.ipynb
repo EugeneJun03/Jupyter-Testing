{
 "cells": [
  {
   "attachments": {},
   "cell_type": "markdown",
   "metadata": {},
   "source": [
    "### 피타고라스 수 구하기\n",
    "\n",
    "- 피타고라스 수(Pythagoras 數, pythagorean triple)는 피타고라스의 정리 a2 + b2 = c2을 만족하는 세 자연수 쌍 (a, b, c)를 말한다."
   ]
  },
  {
   "cell_type": "code",
   "execution_count": null,
   "metadata": {},
   "outputs": [],
   "source": [
    "def Pythagoras():\n",
    "    "
   ]
  }
 ],
 "metadata": {
  "language_info": {
   "name": "python"
  },
  "orig_nbformat": 4
 },
 "nbformat": 4,
 "nbformat_minor": 2
}
