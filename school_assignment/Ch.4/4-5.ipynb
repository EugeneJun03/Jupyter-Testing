{
 "cells": [
  {
   "attachments": {},
   "cell_type": "markdown",
   "metadata": {},
   "source": [
    "### 가장 많이 사용된 알파벳 찾기\n",
    "\n",
    "알파벳 대소문자로 된 단어가 주어지면, 이 단어에서 가장 많이 사용된 알파벳이 무엇인지 알아내는 프로그램을 작성하라.(단, 대문자와 소문자를 구분하지 않는다.)\n",
    "\n",
    "\n",
    "\n",
    "##### 입력\n",
    "\n",
    "첫째 줄에 알파벳 대소문자로 이루어진 단어가 주어진다.\n",
    "\n",
    "- 예시 \n",
    "zZa\n",
    "\n",
    "- 출력\n",
    "Z"
   ]
  },
  {
   "cell_type": "code",
   "execution_count": null,
   "metadata": {},
   "outputs": [],
   "source": [
    "def find_most_used_letter():\n",
    "    word = input(\"단어를 입력하시오.\")"
   ]
  }
 ],
 "metadata": {
  "language_info": {
   "name": "python"
  },
  "orig_nbformat": 4
 },
 "nbformat": 4,
 "nbformat_minor": 2
}
