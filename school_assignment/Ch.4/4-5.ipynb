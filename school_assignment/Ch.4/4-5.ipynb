{
 "cells": [
  {
   "attachments": {},
   "cell_type": "markdown",
   "metadata": {},
   "source": [
    "### 가장 많이 사용된 알파벳 찾기\n",
    "\n",
    "알파벳 대소문자로 된 단어가 주어지면, 이 단어에서 가장 많이 사용된 알파벳이 무엇인지 알아내는 프로그램을 작성하라.(단, 대문자와 소문자를 구분하지 않는다.)\n",
    "\n",
    "\n",
    "\n",
    "##### 입력\n",
    "\n",
    "첫째 줄에 알파벳 대소문자로 이루어진 단어가 주어진다.\n",
    "\n",
    "- 예시 \n",
    "zZa\n",
    "\n",
    "- 출력\n",
    "Z"
   ]
  },
  {
   "cell_type": "code",
   "execution_count": 9,
   "metadata": {},
   "outputs": [
    {
     "name": "stdout",
     "output_type": "stream",
     "text": [
      "A\n"
     ]
    }
   ],
   "source": [
    "def find_most_used_letter():\n",
    "    word = input(\"단어를 입력하시오.:\")\n",
    "    word_upper = word.upper()\n",
    "    word_list = list(word_upper)\n",
    "    word_set = list(set(word_list))\n",
    "    cnt = []\n",
    "    for i in word_set:\n",
    "        cnt.append(word_list.count(i))\n",
    "    if cnt.count(max(cnt)) > 1:\n",
    "        print('?')\n",
    "    else:\n",
    "        print(word_set[cnt.index(max(cnt))])\n",
    "    \n",
    "find_most_used_letter()\n"
   ]
  },
  {
   "cell_type": "code",
   "execution_count": 2,
   "metadata": {},
   "outputs": [
    {
     "data": {
      "text/plain": [
       "['zza']"
      ]
     },
     "execution_count": 2,
     "metadata": {},
     "output_type": "execute_result"
    }
   ],
   "source": [
    "word = \"Zza\"\n",
    "word.lower().split()"
   ]
  }
 ],
 "metadata": {
  "kernelspec": {
   "display_name": "Python 3",
   "language": "python",
   "name": "python3"
  },
  "language_info": {
   "codemirror_mode": {
    "name": "ipython",
    "version": 3
   },
   "file_extension": ".py",
   "mimetype": "text/x-python",
   "name": "python",
   "nbconvert_exporter": "python",
   "pygments_lexer": "ipython3",
   "version": "3.11.0"
  },
  "orig_nbformat": 4
 },
 "nbformat": 4,
 "nbformat_minor": 2
}
