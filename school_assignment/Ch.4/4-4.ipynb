{
 "cells": [
  {
   "attachments": {},
   "cell_type": "markdown",
   "metadata": {},
   "source": [
    "### 줄임말 출력하기\n",
    "\n",
    " - 꿍은 만사가 귀찮아서 말을 하기도 귀찮아 한다. 그래서 하려는 말을 대신해줄 줄임말을 만들려고 하는데 나름 규칙을 만들었다. 하려는 말은 최소 하나 이상의 단어를 포함하는데 각 단어들은 정확히 한칸의 공백으로 구분이 된다. 줄임말을 만들때는 각 단어의 앞글자를 따서 만들어지는데 다음의 단어들은 쓸모없는 단어들이므로 무시한다.\n",
    "\n",
    "- 'i', 'pa', 'te', 'ni', 'niti', 'a', 'ali', 'nego', 'no', 'ili'.\n",
    "\n",
    "- 하지만 이 단어들이 하려는 말의 맨 앞에 올경우 매우 중요하다고 판단되어 무시하면 안되고 줄임말에 포함하여야 한다. (단, 줄임말은 모두 대문자로만 이루어져 있다.)\n",
    "\n",
    "\n",
    "\n",
    "##### 입력\n",
    "\n",
    "유일하게 한 줄만 주어지며 하려는 말이 포함되어 있다.\n",
    "\n",
    "문장은 알파벳 소문자와 공백으로만 이루어져 있다.\n",
    "\n",
    "문장의 최대길이는 100이다.\n",
    "\n",
    "예시 micro soft\n",
    "\n",
    "\n",
    "\n",
    "##### 출력\n",
    "\n",
    "만들어진 줄임말을 출력하라."
   ]
  },
  {
   "attachments": {},
   "cell_type": "markdown",
   "metadata": {},
   "source": [
    "#### 예시\n",
    "- micro soft -> MS\n",
    "\n",
    "- biti ali i ne biti -> BNB\n",
    "\n",
    "- ali ja sam i jucer jeo -> AJSJJ"
   ]
  },
  {
   "cell_type": "code",
   "execution_count": 31,
   "metadata": {},
   "outputs": [
    {
     "data": {
      "text/plain": [
       "'AJSJJ'"
      ]
     },
     "execution_count": 31,
     "metadata": {},
     "output_type": "execute_result"
    }
   ],
   "source": [
    "word_list = ['i', 'pa', 'te', 'ni', 'niti', 'a', 'ali', 'nego', 'no', 'ili']\n",
    "abbreviation_list = []\n",
    "def abbreviation():\n",
    "    my_word_list = input(\"줄이고 싶은 말을 쓰시오:\").split()\n",
    "    if my_word_list[0] in word_list:\n",
    "        word = my_word_list[0][0].upper()\n",
    "        abbreviation_list.append(word)\n",
    "    n = len(my_word_list)\n",
    "    temp_list = my_word_list[:]\n",
    "    for i in range(n):\n",
    "        if my_word_list[i] in word_list:\n",
    "            temp_list.remove(my_word_list[i])\n",
    "    for j in range(len(temp_list)):\n",
    "        word = temp_list[j][0].upper()\n",
    "        abbreviation_list.append(word)\n",
    "    resoult =''.join(abbreviation_list)\n",
    "    return resoult\n",
    "\n",
    "abbreviation()"
   ]
  }
 ],
 "metadata": {
  "kernelspec": {
   "display_name": "Python 3",
   "language": "python",
   "name": "python3"
  },
  "language_info": {
   "codemirror_mode": {
    "name": "ipython",
    "version": 3
   },
   "file_extension": ".py",
   "mimetype": "text/x-python",
   "name": "python",
   "nbconvert_exporter": "python",
   "pygments_lexer": "ipython3",
   "version": "3.11.0"
  },
  "orig_nbformat": 4
 },
 "nbformat": 4,
 "nbformat_minor": 2
}
