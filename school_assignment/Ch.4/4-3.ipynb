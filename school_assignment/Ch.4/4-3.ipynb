{
 "cells": [
  {
   "attachments": {},
   "cell_type": "markdown",
   "metadata": {},
   "source": [
    "### 3번 문제: 표준 라이브러리 사용\n",
    "\n",
    "1. 파이썬의 표준 라이브러리(https://docs.python.org/ko/3/library)를 사전처럼 참고하는 습관을 기른다.\n",
    "\n",
    "\n",
    "2. 모든 object가 할 수 있는 동작은 함수나 연산자에 의해 정해지므로 자주 쓰이는 것은 예제를 보고 동작을 확인해본다."
   ]
  },
  {
   "attachments": {},
   "cell_type": "markdown",
   "metadata": {},
   "source": [
    "#### 1번: 파이썬 표준 라이브러리 '시퀀스 형 — list, tuple, range'부분을 읽고, 리스트와 관련된 함수들\n",
    "\n",
    "(append(), sort(), reverse(), index(), insert(), remove(), pop(), count(), extend())의 간단한 예들을 교과서(92~95쪽)를 참고하여 \n",
    "\n",
    "하나씩 아래의 metro 또는 num을 참고하여 예시를 만들어 보시오.\n",
    "\n",
    "\n",
    "\n",
    "https://docs.python.org/ko/3/library/stdtypes.html#sequence-types-list-tuple-range\n",
    "\n",
    "\n",
    "\n",
    "metro = '서울‘,’부산','인천','대구','광주','대전',‘울산’\n",
    "\n",
    "\n",
    "\n",
    "num = 02, 051, 031, 053, 062, 042, 052\n"
   ]
  },
  {
   "cell_type": "code",
   "execution_count": null,
   "metadata": {},
   "outputs": [],
   "source": []
  },
  {
   "attachments": {},
   "cell_type": "markdown",
   "metadata": {},
   "source": [
    "#### 2번: 파이썬 표준 라이브러리 '매핑 형 — dict'부분, 딕셔너리와 관련된 함수\n",
    "\n",
    "(keys(), values(), items(), clear(), get())과 연산자(in)의 간단한 예들을 이용하여 교과서(101~105쪽)를 참고하고 \n",
    "\n",
    "‘문제3 - (1)’의 key가 num, value를 metro가 되는 딕셔너리를 만들어 하나씩 아래 표를 이용하여 만들어 보시오.\n",
    "\n",
    "\n",
    "\n",
    "https://docs.python.org/ko/3/library/stdtypes.html#mapping-types-dict"
   ]
  }
 ],
 "metadata": {
  "language_info": {
   "name": "python"
  },
  "orig_nbformat": 4
 },
 "nbformat": 4,
 "nbformat_minor": 2
}
