{
 "cells": [
  {
   "attachments": {},
   "cell_type": "markdown",
   "metadata": {},
   "source": [
    "### 나라별 수도 이름 맞추기 게임"
   ]
  },
  {
   "cell_type": "code",
   "execution_count": 23,
   "metadata": {},
   "outputs": [
    {
     "name": "stdout",
     "output_type": "stream",
     "text": [
      "정답입니다.\n",
      "정답입니다.\n",
      "정답입니다.\n",
      "오답입니다.\n",
      "오답입니다.\n",
      "오답입니다.\n",
      "오답입니다.\n",
      "총 7 문제 중 수도를 맞춘 정답수는 3 입니다.\n"
     ]
    }
   ],
   "source": [
    "contry_capital = {\"아이슬란드\":\"레이캬비크\", \"터키\":\"앙카라\", \"캐나다\":\"오타와\", \"뉴질랜드\":\"웰링턴\", \"스위스\":\"베른\", \"네덜란드\":\"암스테르담\", \"그리스\":\"아테네\"}\n",
    "def contry_capital_game():\n",
    "    score = 0\n",
    "    j =0 \n",
    "    for i in contry_capital.keys():\n",
    "        k=list(contry_capital.values())\n",
    "        n = input(i)\n",
    "        if n == k[j]:\n",
    "            print(\"정답입니다.\")\n",
    "            score += 1\n",
    "            j += 1\n",
    "        else:\n",
    "            print(\"오답입니다.\")\n",
    "            j += 1\n",
    "    print(\"총 7 문제 중 수도를 맞춘 정답수는\", score,\"입니다.\")\n",
    "\n",
    "contry_capital_game()\n",
    "\n"
   ]
  },
  {
   "cell_type": "code",
   "execution_count": 22,
   "metadata": {},
   "outputs": [
    {
     "data": {
      "text/plain": [
       "['레이캬비크', '앙카라', '오타와', '웰링턴', '베른', '암스테르담', '아테네']"
      ]
     },
     "execution_count": 22,
     "metadata": {},
     "output_type": "execute_result"
    }
   ],
   "source": [
    "k=list(contry_capital.values())\n",
    "k\n"
   ]
  }
 ],
 "metadata": {
  "kernelspec": {
   "display_name": "Python 3",
   "language": "python",
   "name": "python3"
  },
  "language_info": {
   "codemirror_mode": {
    "name": "ipython",
    "version": 3
   },
   "file_extension": ".py",
   "mimetype": "text/x-python",
   "name": "python",
   "nbconvert_exporter": "python",
   "pygments_lexer": "ipython3",
   "version": "3.11.0"
  },
  "orig_nbformat": 4
 },
 "nbformat": 4,
 "nbformat_minor": 2
}
