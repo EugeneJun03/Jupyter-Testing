{
 "cells": [
  {
   "attachments": {},
   "cell_type": "markdown",
   "metadata": {},
   "source": [
    "### 팩토리얼5 구하기\n",
    "\n",
    "-'팩토리얼5란, n!의 0이 아닌 뒤 5자리를 말한다."
   ]
  },
  {
   "cell_type": "code",
   "execution_count": 1,
   "metadata": {},
   "outputs": [],
   "source": [
    "def fac5():\n",
    "  n = int(input(\"팩토리얼5를 계산할 숫자를 입력하세요:\"))\n",
    "  # 입력제한 설정\n",
    "  if n<9 or n>1000000:\n",
    "    print(\"9부터 1000000까지의 숫자를 입력해 주세요\")\n",
    "  else:\n",
    "    #팩토리얼의 값을 저장할 sum을 정의한다.\n",
    "    sum = 1\n",
    "    for i in range(2, n+1):\n",
    "      sum *=i\n",
    "      # 무한반복: 마지막 자리가 0이면 10을 나눈다.\n",
    "      while True:\n",
    "        if str(sum)[-1] == \"0\":\n",
    "          sum //= 10\n",
    "        else: \n",
    "          break\n",
    "    # 마지막에서 5자리까지 출력한다.\n",
    "    print(str(sum)[-5:])"
   ]
  },
  {
   "cell_type": "code",
   "execution_count": 2,
   "metadata": {},
   "outputs": [
    {
     "name": "stdout",
     "output_type": "stream",
     "text": [
      "05728\n"
     ]
    }
   ],
   "source": [
    "fac5()"
   ]
  }
 ],
 "metadata": {
  "kernelspec": {
   "display_name": "Python 3",
   "language": "python",
   "name": "python3"
  },
  "language_info": {
   "codemirror_mode": {
    "name": "ipython",
    "version": 3
   },
   "file_extension": ".py",
   "mimetype": "text/x-python",
   "name": "python",
   "nbconvert_exporter": "python",
   "pygments_lexer": "ipython3",
   "version": "3.11.0"
  },
  "orig_nbformat": 4
 },
 "nbformat": 4,
 "nbformat_minor": 2
}
