Cell is divind into Code and Markdown
1. Code cell: making orders
2. Markdown cell: explaining

<Title>
# Title
## Title
### Title
